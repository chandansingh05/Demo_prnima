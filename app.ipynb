{
 "cells": [
  {
   "cell_type": "code",
   "execution_count": 2,
   "id": "acquired-contents",
   "metadata": {},
   "outputs": [
    {
     "name": "stdout",
     "output_type": "stream",
     "text": [
      " * Serving Flask app '__main__' (lazy loading)\n",
      " * Environment: production\n",
      "   WARNING: This is a development server. Do not use it in a production deployment.\n",
      "   Use a production WSGI server instead.\n",
      " * Debug mode: off\n"
     ]
    },
    {
     "name": "stderr",
     "output_type": "stream",
     "text": [
      " * Running on http://127.0.0.1:5000/ (Press CTRL+C to quit)\n",
      "127.0.0.1 - - [10/Oct/2021 20:31:32] \"GET / HTTP/1.1\" 200 -\n",
      "127.0.0.1 - - [10/Oct/2021 20:31:32] \"GET /static/styles.css HTTP/1.1\" 200 -\n",
      "127.0.0.1 - - [10/Oct/2021 20:31:32] \"GET /favicon.ico HTTP/1.1\" 404 -\n",
      "127.0.0.1 - - [10/Oct/2021 20:31:46] \"POST /predict HTTP/1.1\" 200 -\n",
      "127.0.0.1 - - [10/Oct/2021 20:31:47] \"GET /static/styles.css HTTP/1.1\" 304 -\n",
      "127.0.0.1 - - [10/Oct/2021 20:31:47] \"GET /static/diabetes.webp HTTP/1.1\" 200 -\n"
     ]
    }
   ],
   "source": [
    "from flask import Flask, render_template, request \n",
    "#from werkzeug.wrapper.json import JSONmixin\n",
    "from flask import Flask\n",
    "import pickle\n",
    "import numpy as np\n",
    "\n",
    "\n",
    "app = Flask(__name__)\n",
    "# Load the Random Forest CLassifier model\n",
    "#filename = 'diabetic_predict_rfc_model1.pkl'\n",
    "model = pickle.load(open('diabetic_predict_rfc_model1.pkl', 'rb'))\n",
    "\n",
    "\n",
    "\n",
    "@app.route('/')\n",
    "def home():\n",
    "    return render_template('index.html')\n",
    "\n",
    "@app.route('/predict', methods=['POST'])\n",
    "def predict():\n",
    "       if request.method == 'POST':\n",
    "        preg = int(request.form['pregnancies'])\n",
    "        glucose = int(request.form['glucose'])\n",
    "        bp = int(request.form['bloodpressure'])\n",
    "        st = int(request.form['skinthickness'])\n",
    "        insulin = float(request.form['insulin'])\n",
    "        bmi = float(request.form['bmi'])\n",
    "        dpf = float(request.form['dpf'])\n",
    "        age = int(request.form['age'])\n",
    "        \n",
    "        data = np.array([[preg, glucose, bp, st, insulin, bmi, dpf, age]])\n",
    "        my_prediction = model.predict(data)\n",
    "        \n",
    "        return render_template('result.html', prediction=my_prediction)\n",
    "\n",
    "if __name__ == '__main__':\n",
    "    app.run(debug=True)"
   ]
  },
  {
   "cell_type": "code",
   "execution_count": 1,
   "id": "funded-activity",
   "metadata": {},
   "outputs": [
    {
     "name": "stdout",
     "output_type": "stream",
     "text": [
      "Requirement already satisfied: werkzeug in c:\\users\\mysore\\anaconda3\\lib\\site-packages (2.0.2)Note: you may need to restart the kernel to use updated packages.\n",
      "\n"
     ]
    },
    {
     "name": "stderr",
     "output_type": "stream",
     "text": [
      "WARNING: Ignoring invalid distribution -atplotlib (c:\\users\\mysore\\anaconda3\\lib\\site-packages)\n",
      "WARNING: Ignoring invalid distribution -atplotlib (c:\\users\\mysore\\anaconda3\\lib\\site-packages)\n",
      "WARNING: Ignoring invalid distribution -atplotlib (c:\\users\\mysore\\anaconda3\\lib\\site-packages)\n",
      "WARNING: Ignoring invalid distribution -atplotlib (c:\\users\\mysore\\anaconda3\\lib\\site-packages)\n",
      "WARNING: Ignoring invalid distribution -atplotlib (c:\\users\\mysore\\anaconda3\\lib\\site-packages)\n"
     ]
    }
   ],
   "source": [
    "pip install --upgrade werkzeug"
   ]
  },
  {
   "cell_type": "code",
   "execution_count": 5,
   "id": "detailed-championship",
   "metadata": {},
   "outputs": [
    {
     "name": "stdout",
     "output_type": "stream",
     "text": [
      "Note: you may need to restart the kernel to use updated packages.\n"
     ]
    },
    {
     "name": "stderr",
     "output_type": "stream",
     "text": [
      "WARNING: Ignoring invalid distribution -atplotlib (c:\\users\\mysore\\anaconda3\\lib\\site-packages)\n"
     ]
    }
   ],
   "source": [
    "pip freeze > requirements.txt"
   ]
  },
  {
   "cell_type": "code",
   "execution_count": null,
   "id": "emerging-steel",
   "metadata": {},
   "outputs": [],
   "source": []
  }
 ],
 "metadata": {
  "kernelspec": {
   "display_name": "Python 3",
   "language": "python",
   "name": "python3"
  },
  "language_info": {
   "codemirror_mode": {
    "name": "ipython",
    "version": 3
   },
   "file_extension": ".py",
   "mimetype": "text/x-python",
   "name": "python",
   "nbconvert_exporter": "python",
   "pygments_lexer": "ipython3",
   "version": "3.8.8"
  }
 },
 "nbformat": 4,
 "nbformat_minor": 5
}
